{
 "cells": [
  {
   "cell_type": "code",
   "execution_count": null,
   "id": "57b6c44f-e411-48a9-8147-9a3ca428c1a5",
   "metadata": {},
   "outputs": [],
   "source": [
    "Q1.What is Abstraction in OOps? Explain with an example?\n",
    "\n",
    "Abstraction is the process of hiding the internal details of an application from the outer world.\n",
    "Abstraction is used to describe things in simple terms. It's used to create a boundary between the\n",
    "application and the client programs"
   ]
  },
  {
   "cell_type": "code",
   "execution_count": 2,
   "id": "08726c5c-52d3-4ea2-a44c-42d0b6e08335",
   "metadata": {},
   "outputs": [
    {
     "name": "stdout",
     "output_type": "stream",
     "text": [
      "Triangle has 3 sides\n",
      "I have 4 sides\n",
      "Pentagon has 5 sides\n",
      "Hexagon has 6 sides\n"
     ]
    }
   ],
   "source": [
    "# Python program to define   \n",
    "# example of abstract class \n",
    "  \n",
    "from abc import ABC  \n",
    "  \n",
    "class Polygon(ABC):   \n",
    "  \n",
    "   # abstract method   \n",
    "   def sides(self):   \n",
    "      pass  \n",
    "  \n",
    "class Triangle(Polygon):   \n",
    "  \n",
    "     \n",
    "   def sides(self):   \n",
    "      print(\"Triangle has 3 sides\")   \n",
    "  \n",
    "class Pentagon(Polygon):   \n",
    "  \n",
    "     \n",
    "   def sides(self):   \n",
    "      print(\"Pentagon has 5 sides\")   \n",
    "  \n",
    "class Hexagon(Polygon):   \n",
    "  \n",
    "   def sides(self):   \n",
    "      print(\"Hexagon has 6 sides\")   \n",
    "  \n",
    "class square(Polygon):   \n",
    "  \n",
    "   def sides(self):   \n",
    "      print(\"I have 4 sides\")   \n",
    "  \n",
    "# Driver code   \n",
    "t = Triangle()   \n",
    "t.sides()   \n",
    "  \n",
    "s = square()   \n",
    "s.sides()   \n",
    "  \n",
    "p = Pentagon()   \n",
    "p.sides()   \n",
    "  \n",
    "k = Hexagon()   \n",
    "k.sides()   "
   ]
  },
  {
   "cell_type": "code",
   "execution_count": null,
   "id": "edccbe14-fbdd-429b-868a-278ad039796d",
   "metadata": {},
   "outputs": [],
   "source": [
    "Q2. Differentiate between Abstraction and Encapsulation. Explain with an example?\n",
    "\n",
    "Abstraction is a process of hiding the implementation details of a system from the user,\n",
    "and only the functional details will be available to the user end. On the other hand, \n",
    "Encapsulation is a method of wrapping up the data and code acting on the data into a single unit.\n"
   ]
  },
  {
   "cell_type": "code",
   "execution_count": null,
   "id": "06e8e973-2777-4e14-b387-3047e70cce27",
   "metadata": {},
   "outputs": [],
   "source": [
    "Q3. What is abc module in python? Why is it used?\n",
    "\n",
    "ABC in Python\n",
    "Python is not a fully object-oriented programming language but it supports the features\n",
    "like abstract classes and abstraction. We cannot create abstract classes directly in Python,\n",
    "so Python provides a module called abc that provides the infrastructure for defining the base of\n",
    "Abstract Base Classes(ABC)."
   ]
  },
  {
   "cell_type": "code",
   "execution_count": null,
   "id": "949e4e69-7760-4d25-9434-775a6bcd2a72",
   "metadata": {},
   "outputs": [],
   "source": [
    "Q4. How can we achieve data abstraction?\n",
    "\n",
    "In Python, abstraction can be achieved by using abstract classes and interfaces.\n",
    "A class that consists of one or more abstract method is called the abstract class. \n",
    "Abstract methods do not contain their implementation.\n",
    "\n",
    "#syntax of abstraction class\n",
    "\n",
    "from abc import ABC  \n",
    "class ClassName(ABC):  "
   ]
  },
  {
   "cell_type": "code",
   "execution_count": null,
   "id": "f1b6fc3d-7ce3-4e25-b2d7-ae01a9444ca5",
   "metadata": {},
   "outputs": [],
   "source": [
    "Q5.Can we create an instance of an abstract class? Explain your answer.\n",
    "    \n",
    "Abstract classes cannot be instantiated, but they can be subclassed. When an abstract class is \n",
    "subclassed, the subclass usually provides implementations for all of the abstract methods in its parent class.    "
   ]
  }
 ],
 "metadata": {
  "kernelspec": {
   "display_name": "Python 3 (ipykernel)",
   "language": "python",
   "name": "python3"
  },
  "language_info": {
   "codemirror_mode": {
    "name": "ipython",
    "version": 3
   },
   "file_extension": ".py",
   "mimetype": "text/x-python",
   "name": "python",
   "nbconvert_exporter": "python",
   "pygments_lexer": "ipython3",
   "version": "3.10.8"
  }
 },
 "nbformat": 4,
 "nbformat_minor": 5
}
